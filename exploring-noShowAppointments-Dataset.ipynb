{
 "cells": [
  {
   "cell_type": "markdown",
   "metadata": {},
   "source": [
    "# Inverstigating a dataset - No Show Appointments"
   ]
  },
  {
   "cell_type": "markdown",
   "metadata": {},
   "source": [
    "### Describing the features of the data"
   ]
  },
  {
   "cell_type": "markdown",
   "metadata": {},
   "source": [
    "###### This dataset collects information from 100k medical appointments in Brazil and is focused on the question of whether or not patients show up for their appointment. A number of characteristics about the patient are included in each row.\n",
    "● ‘ScheduledDay’ tells us on what day the patient set up their appointment.  \n",
    "● ‘Neighborhood’ indicates the location of the hospital.  \n",
    "● ‘Scholarship’ indicates whether or not the patient is enrolled in Brasilian welfare program Bolsa Família.  \n",
    "● ‘No_show’ it says ‘No’ if the patient showed up to their appointment, and ‘Yes’ if they did not show up.  \n"
   ]
  },
  {
   "cell_type": "markdown",
   "metadata": {},
   "source": [
    "### Introductions :  \n",
    "\n",
    "#### Questions we are trying to answer :  \n",
    "\n",
    "##### ● what is the overall appointment show-up vs. no show-up rate  \n",
    "##### ● what are the most feature that matter the most of ('Age', 'being alcoholic','Having an SMS', 'Gender', 'Scholarship'), to make the patient make it to his appiontment?"
   ]
  },
  {
   "cell_type": "markdown",
   "metadata": {},
   "source": [
    "### Importing libraries needed"
   ]
  },
  {
   "cell_type": "code",
   "execution_count": 3,
   "metadata": {},
   "outputs": [],
   "source": [
    "\n",
    "import pandas as pd\n",
    "import numpy as np\n",
    "import matplotlib.pyplot as plt\n",
    "import seaborn as sns\n",
    "\n",
    "%matplotlib inline"
   ]
  },
  {
   "cell_type": "markdown",
   "metadata": {},
   "source": [
    "<a id='wrangling'></a>\n",
    "## Data Wrangling\n",
    "\n",
    ">checking for cleanliness, and then trim and clean the dataset for analysis.\n",
    "\n",
    "### General Properties"
   ]
  },
  {
   "cell_type": "code",
   "execution_count": 4,
   "metadata": {},
   "outputs": [
    {
     "data": {
      "text/html": [
       "<div>\n",
       "<style scoped>\n",
       "    .dataframe tbody tr th:only-of-type {\n",
       "        vertical-align: middle;\n",
       "    }\n",
       "\n",
       "    .dataframe tbody tr th {\n",
       "        vertical-align: top;\n",
       "    }\n",
       "\n",
       "    .dataframe thead th {\n",
       "        text-align: right;\n",
       "    }\n",
       "</style>\n",
       "<table border=\"1\" class=\"dataframe\">\n",
       "  <thead>\n",
       "    <tr style=\"text-align: right;\">\n",
       "      <th></th>\n",
       "      <th>PatientId</th>\n",
       "      <th>AppointmentID</th>\n",
       "      <th>Gender</th>\n",
       "      <th>ScheduledDay</th>\n",
       "      <th>AppointmentDay</th>\n",
       "      <th>Age</th>\n",
       "      <th>Neighbourhood</th>\n",
       "      <th>Scholarship</th>\n",
       "      <th>Hipertension</th>\n",
       "      <th>Diabetes</th>\n",
       "      <th>Alcoholism</th>\n",
       "      <th>Handcap</th>\n",
       "      <th>SMS_received</th>\n",
       "      <th>No-show</th>\n",
       "    </tr>\n",
       "  </thead>\n",
       "  <tbody>\n",
       "    <tr>\n",
       "      <th>0</th>\n",
       "      <td>2.987250e+13</td>\n",
       "      <td>5642903</td>\n",
       "      <td>F</td>\n",
       "      <td>2016-04-29T18:38:08Z</td>\n",
       "      <td>2016-04-29T00:00:00Z</td>\n",
       "      <td>62</td>\n",
       "      <td>JARDIM DA PENHA</td>\n",
       "      <td>0</td>\n",
       "      <td>1</td>\n",
       "      <td>0</td>\n",
       "      <td>0</td>\n",
       "      <td>0</td>\n",
       "      <td>0</td>\n",
       "      <td>No</td>\n",
       "    </tr>\n",
       "    <tr>\n",
       "      <th>1</th>\n",
       "      <td>5.589980e+14</td>\n",
       "      <td>5642503</td>\n",
       "      <td>M</td>\n",
       "      <td>2016-04-29T16:08:27Z</td>\n",
       "      <td>2016-04-29T00:00:00Z</td>\n",
       "      <td>56</td>\n",
       "      <td>JARDIM DA PENHA</td>\n",
       "      <td>0</td>\n",
       "      <td>0</td>\n",
       "      <td>0</td>\n",
       "      <td>0</td>\n",
       "      <td>0</td>\n",
       "      <td>0</td>\n",
       "      <td>No</td>\n",
       "    </tr>\n",
       "    <tr>\n",
       "      <th>2</th>\n",
       "      <td>4.262960e+12</td>\n",
       "      <td>5642549</td>\n",
       "      <td>F</td>\n",
       "      <td>2016-04-29T16:19:04Z</td>\n",
       "      <td>2016-04-29T00:00:00Z</td>\n",
       "      <td>62</td>\n",
       "      <td>MATA DA PRAIA</td>\n",
       "      <td>0</td>\n",
       "      <td>0</td>\n",
       "      <td>0</td>\n",
       "      <td>0</td>\n",
       "      <td>0</td>\n",
       "      <td>0</td>\n",
       "      <td>No</td>\n",
       "    </tr>\n",
       "    <tr>\n",
       "      <th>3</th>\n",
       "      <td>8.679510e+11</td>\n",
       "      <td>5642828</td>\n",
       "      <td>F</td>\n",
       "      <td>2016-04-29T17:29:31Z</td>\n",
       "      <td>2016-04-29T00:00:00Z</td>\n",
       "      <td>8</td>\n",
       "      <td>PONTAL DE CAMBURI</td>\n",
       "      <td>0</td>\n",
       "      <td>0</td>\n",
       "      <td>0</td>\n",
       "      <td>0</td>\n",
       "      <td>0</td>\n",
       "      <td>0</td>\n",
       "      <td>No</td>\n",
       "    </tr>\n",
       "    <tr>\n",
       "      <th>4</th>\n",
       "      <td>8.841190e+12</td>\n",
       "      <td>5642494</td>\n",
       "      <td>F</td>\n",
       "      <td>2016-04-29T16:07:23Z</td>\n",
       "      <td>2016-04-29T00:00:00Z</td>\n",
       "      <td>56</td>\n",
       "      <td>JARDIM DA PENHA</td>\n",
       "      <td>0</td>\n",
       "      <td>1</td>\n",
       "      <td>1</td>\n",
       "      <td>0</td>\n",
       "      <td>0</td>\n",
       "      <td>0</td>\n",
       "      <td>No</td>\n",
       "    </tr>\n",
       "  </tbody>\n",
       "</table>\n",
       "</div>"
      ],
      "text/plain": [
       "      PatientId  AppointmentID Gender          ScheduledDay  \\\n",
       "0  2.987250e+13        5642903      F  2016-04-29T18:38:08Z   \n",
       "1  5.589980e+14        5642503      M  2016-04-29T16:08:27Z   \n",
       "2  4.262960e+12        5642549      F  2016-04-29T16:19:04Z   \n",
       "3  8.679510e+11        5642828      F  2016-04-29T17:29:31Z   \n",
       "4  8.841190e+12        5642494      F  2016-04-29T16:07:23Z   \n",
       "\n",
       "         AppointmentDay  Age      Neighbourhood  Scholarship  Hipertension  \\\n",
       "0  2016-04-29T00:00:00Z   62    JARDIM DA PENHA            0             1   \n",
       "1  2016-04-29T00:00:00Z   56    JARDIM DA PENHA            0             0   \n",
       "2  2016-04-29T00:00:00Z   62      MATA DA PRAIA            0             0   \n",
       "3  2016-04-29T00:00:00Z    8  PONTAL DE CAMBURI            0             0   \n",
       "4  2016-04-29T00:00:00Z   56    JARDIM DA PENHA            0             1   \n",
       "\n",
       "   Diabetes  Alcoholism  Handcap  SMS_received No-show  \n",
       "0         0           0        0             0      No  \n",
       "1         0           0        0             0      No  \n",
       "2         0           0        0             0      No  \n",
       "3         0           0        0             0      No  \n",
       "4         1           0        0             0      No  "
      ]
     },
     "execution_count": 4,
     "metadata": {},
     "output_type": "execute_result"
    }
   ],
   "source": [
    "# Loading the data. \n",
    "df = pd.read_csv('noshowappointments.csv')\n",
    "# showing the first 5 lines from the file.\n",
    "df.head()"
   ]
  },
  {
   "cell_type": "code",
   "execution_count": 5,
   "metadata": {},
   "outputs": [
    {
     "data": {
      "text/plain": [
       "(110527, 14)"
      ]
     },
     "execution_count": 5,
     "metadata": {},
     "output_type": "execute_result"
    }
   ],
   "source": [
    "# Finding the number of patients and their characteristics.\n",
    "df.shape"
   ]
  },
  {
   "cell_type": "code",
   "execution_count": 6,
   "metadata": {},
   "outputs": [
    {
     "name": "stdout",
     "output_type": "stream",
     "text": [
      "<class 'pandas.core.frame.DataFrame'>\n",
      "RangeIndex: 110527 entries, 0 to 110526\n",
      "Data columns (total 14 columns):\n",
      " #   Column          Non-Null Count   Dtype  \n",
      "---  ------          --------------   -----  \n",
      " 0   PatientId       110527 non-null  float64\n",
      " 1   AppointmentID   110527 non-null  int64  \n",
      " 2   Gender          110527 non-null  object \n",
      " 3   ScheduledDay    110527 non-null  object \n",
      " 4   AppointmentDay  110527 non-null  object \n",
      " 5   Age             110527 non-null  int64  \n",
      " 6   Neighbourhood   110527 non-null  object \n",
      " 7   Scholarship     110527 non-null  int64  \n",
      " 8   Hipertension    110527 non-null  int64  \n",
      " 9   Diabetes        110527 non-null  int64  \n",
      " 10  Alcoholism      110527 non-null  int64  \n",
      " 11  Handcap         110527 non-null  int64  \n",
      " 12  SMS_received    110527 non-null  int64  \n",
      " 13  No-show         110527 non-null  object \n",
      "dtypes: float64(1), int64(8), object(5)\n",
      "memory usage: 11.8+ MB\n"
     ]
    }
   ],
   "source": [
    "df.info()"
   ]
  },
  {
   "cell_type": "code",
   "execution_count": 7,
   "metadata": {},
   "outputs": [
    {
     "data": {
      "text/html": [
       "<div>\n",
       "<style scoped>\n",
       "    .dataframe tbody tr th:only-of-type {\n",
       "        vertical-align: middle;\n",
       "    }\n",
       "\n",
       "    .dataframe tbody tr th {\n",
       "        vertical-align: top;\n",
       "    }\n",
       "\n",
       "    .dataframe thead th {\n",
       "        text-align: right;\n",
       "    }\n",
       "</style>\n",
       "<table border=\"1\" class=\"dataframe\">\n",
       "  <thead>\n",
       "    <tr style=\"text-align: right;\">\n",
       "      <th></th>\n",
       "      <th>PatientId</th>\n",
       "      <th>AppointmentID</th>\n",
       "      <th>Age</th>\n",
       "      <th>Scholarship</th>\n",
       "      <th>Hipertension</th>\n",
       "      <th>Diabetes</th>\n",
       "      <th>Alcoholism</th>\n",
       "      <th>Handcap</th>\n",
       "      <th>SMS_received</th>\n",
       "    </tr>\n",
       "  </thead>\n",
       "  <tbody>\n",
       "    <tr>\n",
       "      <th>count</th>\n",
       "      <td>1.105270e+05</td>\n",
       "      <td>1.105270e+05</td>\n",
       "      <td>110527.000000</td>\n",
       "      <td>110527.000000</td>\n",
       "      <td>110527.000000</td>\n",
       "      <td>110527.000000</td>\n",
       "      <td>110527.000000</td>\n",
       "      <td>110527.000000</td>\n",
       "      <td>110527.000000</td>\n",
       "    </tr>\n",
       "    <tr>\n",
       "      <th>mean</th>\n",
       "      <td>1.474963e+14</td>\n",
       "      <td>5.675305e+06</td>\n",
       "      <td>37.088874</td>\n",
       "      <td>0.098266</td>\n",
       "      <td>0.197246</td>\n",
       "      <td>0.071865</td>\n",
       "      <td>0.030400</td>\n",
       "      <td>0.022248</td>\n",
       "      <td>0.321026</td>\n",
       "    </tr>\n",
       "    <tr>\n",
       "      <th>std</th>\n",
       "      <td>2.560949e+14</td>\n",
       "      <td>7.129575e+04</td>\n",
       "      <td>23.110205</td>\n",
       "      <td>0.297675</td>\n",
       "      <td>0.397921</td>\n",
       "      <td>0.258265</td>\n",
       "      <td>0.171686</td>\n",
       "      <td>0.161543</td>\n",
       "      <td>0.466873</td>\n",
       "    </tr>\n",
       "    <tr>\n",
       "      <th>min</th>\n",
       "      <td>3.920000e+04</td>\n",
       "      <td>5.030230e+06</td>\n",
       "      <td>-1.000000</td>\n",
       "      <td>0.000000</td>\n",
       "      <td>0.000000</td>\n",
       "      <td>0.000000</td>\n",
       "      <td>0.000000</td>\n",
       "      <td>0.000000</td>\n",
       "      <td>0.000000</td>\n",
       "    </tr>\n",
       "    <tr>\n",
       "      <th>25%</th>\n",
       "      <td>4.172615e+12</td>\n",
       "      <td>5.640286e+06</td>\n",
       "      <td>18.000000</td>\n",
       "      <td>0.000000</td>\n",
       "      <td>0.000000</td>\n",
       "      <td>0.000000</td>\n",
       "      <td>0.000000</td>\n",
       "      <td>0.000000</td>\n",
       "      <td>0.000000</td>\n",
       "    </tr>\n",
       "    <tr>\n",
       "      <th>50%</th>\n",
       "      <td>3.173180e+13</td>\n",
       "      <td>5.680573e+06</td>\n",
       "      <td>37.000000</td>\n",
       "      <td>0.000000</td>\n",
       "      <td>0.000000</td>\n",
       "      <td>0.000000</td>\n",
       "      <td>0.000000</td>\n",
       "      <td>0.000000</td>\n",
       "      <td>0.000000</td>\n",
       "    </tr>\n",
       "    <tr>\n",
       "      <th>75%</th>\n",
       "      <td>9.439170e+13</td>\n",
       "      <td>5.725524e+06</td>\n",
       "      <td>55.000000</td>\n",
       "      <td>0.000000</td>\n",
       "      <td>0.000000</td>\n",
       "      <td>0.000000</td>\n",
       "      <td>0.000000</td>\n",
       "      <td>0.000000</td>\n",
       "      <td>1.000000</td>\n",
       "    </tr>\n",
       "    <tr>\n",
       "      <th>max</th>\n",
       "      <td>9.999820e+14</td>\n",
       "      <td>5.790484e+06</td>\n",
       "      <td>115.000000</td>\n",
       "      <td>1.000000</td>\n",
       "      <td>1.000000</td>\n",
       "      <td>1.000000</td>\n",
       "      <td>1.000000</td>\n",
       "      <td>4.000000</td>\n",
       "      <td>1.000000</td>\n",
       "    </tr>\n",
       "  </tbody>\n",
       "</table>\n",
       "</div>"
      ],
      "text/plain": [
       "          PatientId  AppointmentID            Age    Scholarship  \\\n",
       "count  1.105270e+05   1.105270e+05  110527.000000  110527.000000   \n",
       "mean   1.474963e+14   5.675305e+06      37.088874       0.098266   \n",
       "std    2.560949e+14   7.129575e+04      23.110205       0.297675   \n",
       "min    3.920000e+04   5.030230e+06      -1.000000       0.000000   \n",
       "25%    4.172615e+12   5.640286e+06      18.000000       0.000000   \n",
       "50%    3.173180e+13   5.680573e+06      37.000000       0.000000   \n",
       "75%    9.439170e+13   5.725524e+06      55.000000       0.000000   \n",
       "max    9.999820e+14   5.790484e+06     115.000000       1.000000   \n",
       "\n",
       "        Hipertension       Diabetes     Alcoholism        Handcap  \\\n",
       "count  110527.000000  110527.000000  110527.000000  110527.000000   \n",
       "mean        0.197246       0.071865       0.030400       0.022248   \n",
       "std         0.397921       0.258265       0.171686       0.161543   \n",
       "min         0.000000       0.000000       0.000000       0.000000   \n",
       "25%         0.000000       0.000000       0.000000       0.000000   \n",
       "50%         0.000000       0.000000       0.000000       0.000000   \n",
       "75%         0.000000       0.000000       0.000000       0.000000   \n",
       "max         1.000000       1.000000       1.000000       4.000000   \n",
       "\n",
       "        SMS_received  \n",
       "count  110527.000000  \n",
       "mean        0.321026  \n",
       "std         0.466873  \n",
       "min         0.000000  \n",
       "25%         0.000000  \n",
       "50%         0.000000  \n",
       "75%         1.000000  \n",
       "max         1.000000  "
      ]
     },
     "execution_count": 7,
     "metadata": {},
     "output_type": "execute_result"
    }
   ],
   "source": [
    "df.describe()"
   ]
  },
  {
   "cell_type": "markdown",
   "metadata": {},
   "source": [
    "##### Checking for null values"
   ]
  },
  {
   "cell_type": "code",
   "execution_count": 8,
   "metadata": {},
   "outputs": [
    {
     "data": {
      "text/plain": [
       "PatientId         0\n",
       "AppointmentID     0\n",
       "Gender            0\n",
       "ScheduledDay      0\n",
       "AppointmentDay    0\n",
       "Age               0\n",
       "Neighbourhood     0\n",
       "Scholarship       0\n",
       "Hipertension      0\n",
       "Diabetes          0\n",
       "Alcoholism        0\n",
       "Handcap           0\n",
       "SMS_received      0\n",
       "No-show           0\n",
       "dtype: int64"
      ]
     },
     "execution_count": 8,
     "metadata": {},
     "output_type": "execute_result"
    }
   ],
   "source": [
    "pd.isna(df).sum()\n",
    "# We can see there is no null values"
   ]
  },
  {
   "cell_type": "markdown",
   "metadata": {},
   "source": [
    "## Data Cleaning\n",
    "### Looking for the data that need cleaning"
   ]
  },
  {
   "cell_type": "code",
   "execution_count": 9,
   "metadata": {},
   "outputs": [
    {
     "name": "stdout",
     "output_type": "stream",
     "text": [
      "Num of dublicated : 0 \n"
     ]
    },
    {
     "data": {
      "text/html": [
       "<div>\n",
       "<style scoped>\n",
       "    .dataframe tbody tr th:only-of-type {\n",
       "        vertical-align: middle;\n",
       "    }\n",
       "\n",
       "    .dataframe tbody tr th {\n",
       "        vertical-align: top;\n",
       "    }\n",
       "\n",
       "    .dataframe thead th {\n",
       "        text-align: right;\n",
       "    }\n",
       "</style>\n",
       "<table border=\"1\" class=\"dataframe\">\n",
       "  <thead>\n",
       "    <tr style=\"text-align: right;\">\n",
       "      <th></th>\n",
       "      <th>PatientId</th>\n",
       "      <th>AppointmentID</th>\n",
       "      <th>Gender</th>\n",
       "      <th>ScheduledDay</th>\n",
       "      <th>AppointmentDay</th>\n",
       "      <th>Age</th>\n",
       "      <th>Neighbourhood</th>\n",
       "      <th>Scholarship</th>\n",
       "      <th>Hipertension</th>\n",
       "      <th>Diabetes</th>\n",
       "      <th>Alcoholism</th>\n",
       "      <th>Handcap</th>\n",
       "      <th>SMS_received</th>\n",
       "      <th>No-show</th>\n",
       "    </tr>\n",
       "  </thead>\n",
       "  <tbody>\n",
       "    <tr>\n",
       "      <th>59</th>\n",
       "      <td>7.184430e+13</td>\n",
       "      <td>5638545</td>\n",
       "      <td>F</td>\n",
       "      <td>2016-04-29T08:08:43Z</td>\n",
       "      <td>2016-04-29T00:00:00Z</td>\n",
       "      <td>0</td>\n",
       "      <td>CONQUISTA</td>\n",
       "      <td>0</td>\n",
       "      <td>0</td>\n",
       "      <td>0</td>\n",
       "      <td>0</td>\n",
       "      <td>0</td>\n",
       "      <td>0</td>\n",
       "      <td>No</td>\n",
       "    </tr>\n",
       "    <tr>\n",
       "      <th>63</th>\n",
       "      <td>2.366230e+14</td>\n",
       "      <td>5628286</td>\n",
       "      <td>M</td>\n",
       "      <td>2016-04-27T10:46:12Z</td>\n",
       "      <td>2016-04-29T00:00:00Z</td>\n",
       "      <td>0</td>\n",
       "      <td>SÃO BENEDITO</td>\n",
       "      <td>0</td>\n",
       "      <td>0</td>\n",
       "      <td>0</td>\n",
       "      <td>0</td>\n",
       "      <td>0</td>\n",
       "      <td>0</td>\n",
       "      <td>No</td>\n",
       "    </tr>\n",
       "    <tr>\n",
       "      <th>64</th>\n",
       "      <td>1.885170e+14</td>\n",
       "      <td>5616082</td>\n",
       "      <td>M</td>\n",
       "      <td>2016-04-25T13:28:21Z</td>\n",
       "      <td>2016-04-29T00:00:00Z</td>\n",
       "      <td>0</td>\n",
       "      <td>ILHA DAS CAIEIRAS</td>\n",
       "      <td>0</td>\n",
       "      <td>0</td>\n",
       "      <td>0</td>\n",
       "      <td>0</td>\n",
       "      <td>0</td>\n",
       "      <td>1</td>\n",
       "      <td>No</td>\n",
       "    </tr>\n",
       "    <tr>\n",
       "      <th>65</th>\n",
       "      <td>2.718820e+14</td>\n",
       "      <td>5628321</td>\n",
       "      <td>M</td>\n",
       "      <td>2016-04-27T10:48:50Z</td>\n",
       "      <td>2016-04-29T00:00:00Z</td>\n",
       "      <td>0</td>\n",
       "      <td>CONQUISTA</td>\n",
       "      <td>0</td>\n",
       "      <td>0</td>\n",
       "      <td>0</td>\n",
       "      <td>0</td>\n",
       "      <td>0</td>\n",
       "      <td>0</td>\n",
       "      <td>No</td>\n",
       "    </tr>\n",
       "    <tr>\n",
       "      <th>67</th>\n",
       "      <td>8.647130e+13</td>\n",
       "      <td>5639264</td>\n",
       "      <td>F</td>\n",
       "      <td>2016-04-29T08:53:02Z</td>\n",
       "      <td>2016-04-29T00:00:00Z</td>\n",
       "      <td>0</td>\n",
       "      <td>NOVA PALESTINA</td>\n",
       "      <td>0</td>\n",
       "      <td>0</td>\n",
       "      <td>0</td>\n",
       "      <td>0</td>\n",
       "      <td>0</td>\n",
       "      <td>0</td>\n",
       "      <td>No</td>\n",
       "    </tr>\n",
       "    <tr>\n",
       "      <th>...</th>\n",
       "      <td>...</td>\n",
       "      <td>...</td>\n",
       "      <td>...</td>\n",
       "      <td>...</td>\n",
       "      <td>...</td>\n",
       "      <td>...</td>\n",
       "      <td>...</td>\n",
       "      <td>...</td>\n",
       "      <td>...</td>\n",
       "      <td>...</td>\n",
       "      <td>...</td>\n",
       "      <td>...</td>\n",
       "      <td>...</td>\n",
       "      <td>...</td>\n",
       "    </tr>\n",
       "    <tr>\n",
       "      <th>110345</th>\n",
       "      <td>1.473950e+14</td>\n",
       "      <td>5702537</td>\n",
       "      <td>F</td>\n",
       "      <td>2016-05-16T12:30:58Z</td>\n",
       "      <td>2016-06-01T00:00:00Z</td>\n",
       "      <td>0</td>\n",
       "      <td>RESISTÊNCIA</td>\n",
       "      <td>0</td>\n",
       "      <td>0</td>\n",
       "      <td>0</td>\n",
       "      <td>0</td>\n",
       "      <td>0</td>\n",
       "      <td>0</td>\n",
       "      <td>No</td>\n",
       "    </tr>\n",
       "    <tr>\n",
       "      <th>110346</th>\n",
       "      <td>5.577530e+12</td>\n",
       "      <td>5777724</td>\n",
       "      <td>M</td>\n",
       "      <td>2016-06-06T14:22:34Z</td>\n",
       "      <td>2016-06-08T00:00:00Z</td>\n",
       "      <td>0</td>\n",
       "      <td>RESISTÊNCIA</td>\n",
       "      <td>0</td>\n",
       "      <td>0</td>\n",
       "      <td>0</td>\n",
       "      <td>0</td>\n",
       "      <td>0</td>\n",
       "      <td>0</td>\n",
       "      <td>No</td>\n",
       "    </tr>\n",
       "    <tr>\n",
       "      <th>110454</th>\n",
       "      <td>6.142460e+11</td>\n",
       "      <td>5772400</td>\n",
       "      <td>F</td>\n",
       "      <td>2016-06-03T15:18:44Z</td>\n",
       "      <td>2016-06-03T00:00:00Z</td>\n",
       "      <td>0</td>\n",
       "      <td>RESISTÊNCIA</td>\n",
       "      <td>0</td>\n",
       "      <td>0</td>\n",
       "      <td>0</td>\n",
       "      <td>0</td>\n",
       "      <td>0</td>\n",
       "      <td>0</td>\n",
       "      <td>No</td>\n",
       "    </tr>\n",
       "    <tr>\n",
       "      <th>110460</th>\n",
       "      <td>4.321850e+13</td>\n",
       "      <td>5769545</td>\n",
       "      <td>F</td>\n",
       "      <td>2016-06-03T08:56:51Z</td>\n",
       "      <td>2016-06-03T00:00:00Z</td>\n",
       "      <td>0</td>\n",
       "      <td>RESISTÊNCIA</td>\n",
       "      <td>0</td>\n",
       "      <td>0</td>\n",
       "      <td>0</td>\n",
       "      <td>0</td>\n",
       "      <td>0</td>\n",
       "      <td>0</td>\n",
       "      <td>No</td>\n",
       "    </tr>\n",
       "    <tr>\n",
       "      <th>110507</th>\n",
       "      <td>4.769460e+14</td>\n",
       "      <td>5786918</td>\n",
       "      <td>F</td>\n",
       "      <td>2016-06-08T09:04:18Z</td>\n",
       "      <td>2016-06-08T00:00:00Z</td>\n",
       "      <td>0</td>\n",
       "      <td>MARIA ORTIZ</td>\n",
       "      <td>0</td>\n",
       "      <td>0</td>\n",
       "      <td>0</td>\n",
       "      <td>0</td>\n",
       "      <td>0</td>\n",
       "      <td>0</td>\n",
       "      <td>No</td>\n",
       "    </tr>\n",
       "  </tbody>\n",
       "</table>\n",
       "<p>3540 rows × 14 columns</p>\n",
       "</div>"
      ],
      "text/plain": [
       "           PatientId  AppointmentID Gender          ScheduledDay  \\\n",
       "59      7.184430e+13        5638545      F  2016-04-29T08:08:43Z   \n",
       "63      2.366230e+14        5628286      M  2016-04-27T10:46:12Z   \n",
       "64      1.885170e+14        5616082      M  2016-04-25T13:28:21Z   \n",
       "65      2.718820e+14        5628321      M  2016-04-27T10:48:50Z   \n",
       "67      8.647130e+13        5639264      F  2016-04-29T08:53:02Z   \n",
       "...              ...            ...    ...                   ...   \n",
       "110345  1.473950e+14        5702537      F  2016-05-16T12:30:58Z   \n",
       "110346  5.577530e+12        5777724      M  2016-06-06T14:22:34Z   \n",
       "110454  6.142460e+11        5772400      F  2016-06-03T15:18:44Z   \n",
       "110460  4.321850e+13        5769545      F  2016-06-03T08:56:51Z   \n",
       "110507  4.769460e+14        5786918      F  2016-06-08T09:04:18Z   \n",
       "\n",
       "              AppointmentDay  Age      Neighbourhood  Scholarship  \\\n",
       "59      2016-04-29T00:00:00Z    0          CONQUISTA            0   \n",
       "63      2016-04-29T00:00:00Z    0       SÃO BENEDITO            0   \n",
       "64      2016-04-29T00:00:00Z    0  ILHA DAS CAIEIRAS            0   \n",
       "65      2016-04-29T00:00:00Z    0          CONQUISTA            0   \n",
       "67      2016-04-29T00:00:00Z    0     NOVA PALESTINA            0   \n",
       "...                      ...  ...                ...          ...   \n",
       "110345  2016-06-01T00:00:00Z    0        RESISTÊNCIA            0   \n",
       "110346  2016-06-08T00:00:00Z    0        RESISTÊNCIA            0   \n",
       "110454  2016-06-03T00:00:00Z    0        RESISTÊNCIA            0   \n",
       "110460  2016-06-03T00:00:00Z    0        RESISTÊNCIA            0   \n",
       "110507  2016-06-08T00:00:00Z    0        MARIA ORTIZ            0   \n",
       "\n",
       "        Hipertension  Diabetes  Alcoholism  Handcap  SMS_received No-show  \n",
       "59                 0         0           0        0             0      No  \n",
       "63                 0         0           0        0             0      No  \n",
       "64                 0         0           0        0             1      No  \n",
       "65                 0         0           0        0             0      No  \n",
       "67                 0         0           0        0             0      No  \n",
       "...              ...       ...         ...      ...           ...     ...  \n",
       "110345             0         0           0        0             0      No  \n",
       "110346             0         0           0        0             0      No  \n",
       "110454             0         0           0        0             0      No  \n",
       "110460             0         0           0        0             0      No  \n",
       "110507             0         0           0        0             0      No  \n",
       "\n",
       "[3540 rows x 14 columns]"
      ]
     },
     "execution_count": 9,
     "metadata": {},
     "output_type": "execute_result"
    }
   ],
   "source": [
    "# check if there is a dplicates in the data \n",
    "print(\"Num of dublicated : {} \".format(sum(df.duplicated())))\n",
    "\n",
    "#check if there is an age with minus or 0 value\n",
    "df[df[\"Age\"] <= 0]\n"
   ]
  },
  {
   "cell_type": "markdown",
   "metadata": {},
   "source": [
    "#### Fixing typos in data columns"
   ]
  },
  {
   "cell_type": "code",
   "execution_count": 10,
   "metadata": {},
   "outputs": [
    {
     "data": {
      "text/html": [
       "<div>\n",
       "<style scoped>\n",
       "    .dataframe tbody tr th:only-of-type {\n",
       "        vertical-align: middle;\n",
       "    }\n",
       "\n",
       "    .dataframe tbody tr th {\n",
       "        vertical-align: top;\n",
       "    }\n",
       "\n",
       "    .dataframe thead th {\n",
       "        text-align: right;\n",
       "    }\n",
       "</style>\n",
       "<table border=\"1\" class=\"dataframe\">\n",
       "  <thead>\n",
       "    <tr style=\"text-align: right;\">\n",
       "      <th></th>\n",
       "      <th>PatientId</th>\n",
       "      <th>AppointmentID</th>\n",
       "      <th>Gender</th>\n",
       "      <th>ScheduledDay</th>\n",
       "      <th>AppointmentDay</th>\n",
       "      <th>Age</th>\n",
       "      <th>Neighbourhood</th>\n",
       "      <th>Scholarship</th>\n",
       "      <th>Hypertension</th>\n",
       "      <th>Diabetes</th>\n",
       "      <th>Alcoholism</th>\n",
       "      <th>Handicap</th>\n",
       "      <th>SMS_received</th>\n",
       "      <th>No_show</th>\n",
       "    </tr>\n",
       "  </thead>\n",
       "  <tbody>\n",
       "    <tr>\n",
       "      <th>0</th>\n",
       "      <td>2.987250e+13</td>\n",
       "      <td>5642903</td>\n",
       "      <td>F</td>\n",
       "      <td>2016-04-29T18:38:08Z</td>\n",
       "      <td>2016-04-29T00:00:00Z</td>\n",
       "      <td>62</td>\n",
       "      <td>JARDIM DA PENHA</td>\n",
       "      <td>0</td>\n",
       "      <td>1</td>\n",
       "      <td>0</td>\n",
       "      <td>0</td>\n",
       "      <td>0</td>\n",
       "      <td>0</td>\n",
       "      <td>No</td>\n",
       "    </tr>\n",
       "    <tr>\n",
       "      <th>1</th>\n",
       "      <td>5.589980e+14</td>\n",
       "      <td>5642503</td>\n",
       "      <td>M</td>\n",
       "      <td>2016-04-29T16:08:27Z</td>\n",
       "      <td>2016-04-29T00:00:00Z</td>\n",
       "      <td>56</td>\n",
       "      <td>JARDIM DA PENHA</td>\n",
       "      <td>0</td>\n",
       "      <td>0</td>\n",
       "      <td>0</td>\n",
       "      <td>0</td>\n",
       "      <td>0</td>\n",
       "      <td>0</td>\n",
       "      <td>No</td>\n",
       "    </tr>\n",
       "    <tr>\n",
       "      <th>2</th>\n",
       "      <td>4.262960e+12</td>\n",
       "      <td>5642549</td>\n",
       "      <td>F</td>\n",
       "      <td>2016-04-29T16:19:04Z</td>\n",
       "      <td>2016-04-29T00:00:00Z</td>\n",
       "      <td>62</td>\n",
       "      <td>MATA DA PRAIA</td>\n",
       "      <td>0</td>\n",
       "      <td>0</td>\n",
       "      <td>0</td>\n",
       "      <td>0</td>\n",
       "      <td>0</td>\n",
       "      <td>0</td>\n",
       "      <td>No</td>\n",
       "    </tr>\n",
       "    <tr>\n",
       "      <th>3</th>\n",
       "      <td>8.679510e+11</td>\n",
       "      <td>5642828</td>\n",
       "      <td>F</td>\n",
       "      <td>2016-04-29T17:29:31Z</td>\n",
       "      <td>2016-04-29T00:00:00Z</td>\n",
       "      <td>8</td>\n",
       "      <td>PONTAL DE CAMBURI</td>\n",
       "      <td>0</td>\n",
       "      <td>0</td>\n",
       "      <td>0</td>\n",
       "      <td>0</td>\n",
       "      <td>0</td>\n",
       "      <td>0</td>\n",
       "      <td>No</td>\n",
       "    </tr>\n",
       "    <tr>\n",
       "      <th>4</th>\n",
       "      <td>8.841190e+12</td>\n",
       "      <td>5642494</td>\n",
       "      <td>F</td>\n",
       "      <td>2016-04-29T16:07:23Z</td>\n",
       "      <td>2016-04-29T00:00:00Z</td>\n",
       "      <td>56</td>\n",
       "      <td>JARDIM DA PENHA</td>\n",
       "      <td>0</td>\n",
       "      <td>1</td>\n",
       "      <td>1</td>\n",
       "      <td>0</td>\n",
       "      <td>0</td>\n",
       "      <td>0</td>\n",
       "      <td>No</td>\n",
       "    </tr>\n",
       "  </tbody>\n",
       "</table>\n",
       "</div>"
      ],
      "text/plain": [
       "      PatientId  AppointmentID Gender          ScheduledDay  \\\n",
       "0  2.987250e+13        5642903      F  2016-04-29T18:38:08Z   \n",
       "1  5.589980e+14        5642503      M  2016-04-29T16:08:27Z   \n",
       "2  4.262960e+12        5642549      F  2016-04-29T16:19:04Z   \n",
       "3  8.679510e+11        5642828      F  2016-04-29T17:29:31Z   \n",
       "4  8.841190e+12        5642494      F  2016-04-29T16:07:23Z   \n",
       "\n",
       "         AppointmentDay  Age      Neighbourhood  Scholarship  Hypertension  \\\n",
       "0  2016-04-29T00:00:00Z   62    JARDIM DA PENHA            0             1   \n",
       "1  2016-04-29T00:00:00Z   56    JARDIM DA PENHA            0             0   \n",
       "2  2016-04-29T00:00:00Z   62      MATA DA PRAIA            0             0   \n",
       "3  2016-04-29T00:00:00Z    8  PONTAL DE CAMBURI            0             0   \n",
       "4  2016-04-29T00:00:00Z   56    JARDIM DA PENHA            0             1   \n",
       "\n",
       "   Diabetes  Alcoholism  Handicap  SMS_received No_show  \n",
       "0         0           0         0             0      No  \n",
       "1         0           0         0             0      No  \n",
       "2         0           0         0             0      No  \n",
       "3         0           0         0             0      No  \n",
       "4         1           0         0             0      No  "
      ]
     },
     "execution_count": 10,
     "metadata": {},
     "output_type": "execute_result"
    }
   ],
   "source": [
    "df.rename(columns = {'Hipertension': 'Hypertension', 'Handcap': 'Handicap','No-show':'No_show'}, inplace = True)\n",
    "df.head()"
   ]
  },
  {
   "cell_type": "markdown",
   "metadata": {},
   "source": [
    "#### converting some columns that has date to a DateTime datatype"
   ]
  },
  {
   "cell_type": "code",
   "execution_count": 11,
   "metadata": {},
   "outputs": [
    {
     "data": {
      "text/html": [
       "<div>\n",
       "<style scoped>\n",
       "    .dataframe tbody tr th:only-of-type {\n",
       "        vertical-align: middle;\n",
       "    }\n",
       "\n",
       "    .dataframe tbody tr th {\n",
       "        vertical-align: top;\n",
       "    }\n",
       "\n",
       "    .dataframe thead th {\n",
       "        text-align: right;\n",
       "    }\n",
       "</style>\n",
       "<table border=\"1\" class=\"dataframe\">\n",
       "  <thead>\n",
       "    <tr style=\"text-align: right;\">\n",
       "      <th></th>\n",
       "      <th>PatientId</th>\n",
       "      <th>AppointmentID</th>\n",
       "      <th>Gender</th>\n",
       "      <th>ScheduledDay</th>\n",
       "      <th>AppointmentDay</th>\n",
       "      <th>Age</th>\n",
       "      <th>Neighbourhood</th>\n",
       "      <th>Scholarship</th>\n",
       "      <th>Hypertension</th>\n",
       "      <th>Diabetes</th>\n",
       "      <th>Alcoholism</th>\n",
       "      <th>Handicap</th>\n",
       "      <th>SMS_received</th>\n",
       "      <th>No_show</th>\n",
       "    </tr>\n",
       "  </thead>\n",
       "  <tbody>\n",
       "    <tr>\n",
       "      <th>0</th>\n",
       "      <td>2.987250e+13</td>\n",
       "      <td>5642903</td>\n",
       "      <td>F</td>\n",
       "      <td>2016-04-29 18:38:08+00:00</td>\n",
       "      <td>2016-04-29 00:00:00+00:00</td>\n",
       "      <td>62</td>\n",
       "      <td>JARDIM DA PENHA</td>\n",
       "      <td>0</td>\n",
       "      <td>1</td>\n",
       "      <td>0</td>\n",
       "      <td>0</td>\n",
       "      <td>0</td>\n",
       "      <td>0</td>\n",
       "      <td>No</td>\n",
       "    </tr>\n",
       "    <tr>\n",
       "      <th>1</th>\n",
       "      <td>5.589980e+14</td>\n",
       "      <td>5642503</td>\n",
       "      <td>M</td>\n",
       "      <td>2016-04-29 16:08:27+00:00</td>\n",
       "      <td>2016-04-29 00:00:00+00:00</td>\n",
       "      <td>56</td>\n",
       "      <td>JARDIM DA PENHA</td>\n",
       "      <td>0</td>\n",
       "      <td>0</td>\n",
       "      <td>0</td>\n",
       "      <td>0</td>\n",
       "      <td>0</td>\n",
       "      <td>0</td>\n",
       "      <td>No</td>\n",
       "    </tr>\n",
       "    <tr>\n",
       "      <th>2</th>\n",
       "      <td>4.262960e+12</td>\n",
       "      <td>5642549</td>\n",
       "      <td>F</td>\n",
       "      <td>2016-04-29 16:19:04+00:00</td>\n",
       "      <td>2016-04-29 00:00:00+00:00</td>\n",
       "      <td>62</td>\n",
       "      <td>MATA DA PRAIA</td>\n",
       "      <td>0</td>\n",
       "      <td>0</td>\n",
       "      <td>0</td>\n",
       "      <td>0</td>\n",
       "      <td>0</td>\n",
       "      <td>0</td>\n",
       "      <td>No</td>\n",
       "    </tr>\n",
       "    <tr>\n",
       "      <th>3</th>\n",
       "      <td>8.679510e+11</td>\n",
       "      <td>5642828</td>\n",
       "      <td>F</td>\n",
       "      <td>2016-04-29 17:29:31+00:00</td>\n",
       "      <td>2016-04-29 00:00:00+00:00</td>\n",
       "      <td>8</td>\n",
       "      <td>PONTAL DE CAMBURI</td>\n",
       "      <td>0</td>\n",
       "      <td>0</td>\n",
       "      <td>0</td>\n",
       "      <td>0</td>\n",
       "      <td>0</td>\n",
       "      <td>0</td>\n",
       "      <td>No</td>\n",
       "    </tr>\n",
       "    <tr>\n",
       "      <th>4</th>\n",
       "      <td>8.841190e+12</td>\n",
       "      <td>5642494</td>\n",
       "      <td>F</td>\n",
       "      <td>2016-04-29 16:07:23+00:00</td>\n",
       "      <td>2016-04-29 00:00:00+00:00</td>\n",
       "      <td>56</td>\n",
       "      <td>JARDIM DA PENHA</td>\n",
       "      <td>0</td>\n",
       "      <td>1</td>\n",
       "      <td>1</td>\n",
       "      <td>0</td>\n",
       "      <td>0</td>\n",
       "      <td>0</td>\n",
       "      <td>No</td>\n",
       "    </tr>\n",
       "  </tbody>\n",
       "</table>\n",
       "</div>"
      ],
      "text/plain": [
       "      PatientId  AppointmentID Gender              ScheduledDay  \\\n",
       "0  2.987250e+13        5642903      F 2016-04-29 18:38:08+00:00   \n",
       "1  5.589980e+14        5642503      M 2016-04-29 16:08:27+00:00   \n",
       "2  4.262960e+12        5642549      F 2016-04-29 16:19:04+00:00   \n",
       "3  8.679510e+11        5642828      F 2016-04-29 17:29:31+00:00   \n",
       "4  8.841190e+12        5642494      F 2016-04-29 16:07:23+00:00   \n",
       "\n",
       "             AppointmentDay  Age      Neighbourhood  Scholarship  \\\n",
       "0 2016-04-29 00:00:00+00:00   62    JARDIM DA PENHA            0   \n",
       "1 2016-04-29 00:00:00+00:00   56    JARDIM DA PENHA            0   \n",
       "2 2016-04-29 00:00:00+00:00   62      MATA DA PRAIA            0   \n",
       "3 2016-04-29 00:00:00+00:00    8  PONTAL DE CAMBURI            0   \n",
       "4 2016-04-29 00:00:00+00:00   56    JARDIM DA PENHA            0   \n",
       "\n",
       "   Hypertension  Diabetes  Alcoholism  Handicap  SMS_received No_show  \n",
       "0             1         0           0         0             0      No  \n",
       "1             0         0           0         0             0      No  \n",
       "2             0         0           0         0             0      No  \n",
       "3             0         0           0         0             0      No  \n",
       "4             1         1           0         0             0      No  "
      ]
     },
     "execution_count": 11,
     "metadata": {},
     "output_type": "execute_result"
    }
   ],
   "source": [
    "df['ScheduledDay'] = pd.to_datetime(df['ScheduledDay'])\n",
    "df['AppointmentDay'] = pd.to_datetime(df['AppointmentDay'])\n",
    "df.head()\n"
   ]
  },
  {
   "cell_type": "markdown",
   "metadata": {},
   "source": [
    "#### fixing the ages that are less than (0) by taking the mean of all ages and put those values into it"
   ]
  },
  {
   "cell_type": "code",
   "execution_count": 12,
   "metadata": {},
   "outputs": [
    {
     "data": {
      "text/html": [
       "<div>\n",
       "<style scoped>\n",
       "    .dataframe tbody tr th:only-of-type {\n",
       "        vertical-align: middle;\n",
       "    }\n",
       "\n",
       "    .dataframe tbody tr th {\n",
       "        vertical-align: top;\n",
       "    }\n",
       "\n",
       "    .dataframe thead th {\n",
       "        text-align: right;\n",
       "    }\n",
       "</style>\n",
       "<table border=\"1\" class=\"dataframe\">\n",
       "  <thead>\n",
       "    <tr style=\"text-align: right;\">\n",
       "      <th></th>\n",
       "      <th>PatientId</th>\n",
       "      <th>AppointmentID</th>\n",
       "      <th>Gender</th>\n",
       "      <th>ScheduledDay</th>\n",
       "      <th>AppointmentDay</th>\n",
       "      <th>Age</th>\n",
       "      <th>Neighbourhood</th>\n",
       "      <th>Scholarship</th>\n",
       "      <th>Hypertension</th>\n",
       "      <th>Diabetes</th>\n",
       "      <th>Alcoholism</th>\n",
       "      <th>Handicap</th>\n",
       "      <th>SMS_received</th>\n",
       "      <th>No_show</th>\n",
       "    </tr>\n",
       "  </thead>\n",
       "  <tbody>\n",
       "    <tr>\n",
       "      <th>0</th>\n",
       "      <td>2.987250e+13</td>\n",
       "      <td>5642903.0</td>\n",
       "      <td>F</td>\n",
       "      <td>2016-04-29 18:38:08+00:00</td>\n",
       "      <td>2016-04-29 00:00:00+00:00</td>\n",
       "      <td>62.0</td>\n",
       "      <td>JARDIM DA PENHA</td>\n",
       "      <td>0.0</td>\n",
       "      <td>1.0</td>\n",
       "      <td>0.0</td>\n",
       "      <td>0.0</td>\n",
       "      <td>0.0</td>\n",
       "      <td>0.0</td>\n",
       "      <td>No</td>\n",
       "    </tr>\n",
       "    <tr>\n",
       "      <th>1</th>\n",
       "      <td>5.589980e+14</td>\n",
       "      <td>5642503.0</td>\n",
       "      <td>M</td>\n",
       "      <td>2016-04-29 16:08:27+00:00</td>\n",
       "      <td>2016-04-29 00:00:00+00:00</td>\n",
       "      <td>56.0</td>\n",
       "      <td>JARDIM DA PENHA</td>\n",
       "      <td>0.0</td>\n",
       "      <td>0.0</td>\n",
       "      <td>0.0</td>\n",
       "      <td>0.0</td>\n",
       "      <td>0.0</td>\n",
       "      <td>0.0</td>\n",
       "      <td>No</td>\n",
       "    </tr>\n",
       "    <tr>\n",
       "      <th>2</th>\n",
       "      <td>4.262960e+12</td>\n",
       "      <td>5642549.0</td>\n",
       "      <td>F</td>\n",
       "      <td>2016-04-29 16:19:04+00:00</td>\n",
       "      <td>2016-04-29 00:00:00+00:00</td>\n",
       "      <td>62.0</td>\n",
       "      <td>MATA DA PRAIA</td>\n",
       "      <td>0.0</td>\n",
       "      <td>0.0</td>\n",
       "      <td>0.0</td>\n",
       "      <td>0.0</td>\n",
       "      <td>0.0</td>\n",
       "      <td>0.0</td>\n",
       "      <td>No</td>\n",
       "    </tr>\n",
       "    <tr>\n",
       "      <th>3</th>\n",
       "      <td>8.679510e+11</td>\n",
       "      <td>5642828.0</td>\n",
       "      <td>F</td>\n",
       "      <td>2016-04-29 17:29:31+00:00</td>\n",
       "      <td>2016-04-29 00:00:00+00:00</td>\n",
       "      <td>8.0</td>\n",
       "      <td>PONTAL DE CAMBURI</td>\n",
       "      <td>0.0</td>\n",
       "      <td>0.0</td>\n",
       "      <td>0.0</td>\n",
       "      <td>0.0</td>\n",
       "      <td>0.0</td>\n",
       "      <td>0.0</td>\n",
       "      <td>No</td>\n",
       "    </tr>\n",
       "    <tr>\n",
       "      <th>4</th>\n",
       "      <td>8.841190e+12</td>\n",
       "      <td>5642494.0</td>\n",
       "      <td>F</td>\n",
       "      <td>2016-04-29 16:07:23+00:00</td>\n",
       "      <td>2016-04-29 00:00:00+00:00</td>\n",
       "      <td>56.0</td>\n",
       "      <td>JARDIM DA PENHA</td>\n",
       "      <td>0.0</td>\n",
       "      <td>1.0</td>\n",
       "      <td>1.0</td>\n",
       "      <td>0.0</td>\n",
       "      <td>0.0</td>\n",
       "      <td>0.0</td>\n",
       "      <td>No</td>\n",
       "    </tr>\n",
       "  </tbody>\n",
       "</table>\n",
       "</div>"
      ],
      "text/plain": [
       "      PatientId  AppointmentID Gender               ScheduledDay  \\\n",
       "0  2.987250e+13      5642903.0      F  2016-04-29 18:38:08+00:00   \n",
       "1  5.589980e+14      5642503.0      M  2016-04-29 16:08:27+00:00   \n",
       "2  4.262960e+12      5642549.0      F  2016-04-29 16:19:04+00:00   \n",
       "3  8.679510e+11      5642828.0      F  2016-04-29 17:29:31+00:00   \n",
       "4  8.841190e+12      5642494.0      F  2016-04-29 16:07:23+00:00   \n",
       "\n",
       "              AppointmentDay   Age      Neighbourhood  Scholarship  \\\n",
       "0  2016-04-29 00:00:00+00:00  62.0    JARDIM DA PENHA          0.0   \n",
       "1  2016-04-29 00:00:00+00:00  56.0    JARDIM DA PENHA          0.0   \n",
       "2  2016-04-29 00:00:00+00:00  62.0      MATA DA PRAIA          0.0   \n",
       "3  2016-04-29 00:00:00+00:00   8.0  PONTAL DE CAMBURI          0.0   \n",
       "4  2016-04-29 00:00:00+00:00  56.0    JARDIM DA PENHA          0.0   \n",
       "\n",
       "   Hypertension  Diabetes  Alcoholism  Handicap  SMS_received No_show  \n",
       "0           1.0       0.0         0.0       0.0           0.0      No  \n",
       "1           0.0       0.0         0.0       0.0           0.0      No  \n",
       "2           0.0       0.0         0.0       0.0           0.0      No  \n",
       "3           0.0       0.0         0.0       0.0           0.0      No  \n",
       "4           1.0       1.0         0.0       0.0           0.0      No  "
      ]
     },
     "execution_count": 12,
     "metadata": {},
     "output_type": "execute_result"
    }
   ],
   "source": [
    "# We fix any age has values <= 0.\n",
    "meanAge = df['Age'].mean()\n",
    "df[df['Age'] <= 0] = meanAge\n",
    "df.head()"
   ]
  },
  {
   "cell_type": "code",
   "execution_count": 13,
   "metadata": {},
   "outputs": [
    {
     "data": {
      "text/html": [
       "<div>\n",
       "<style scoped>\n",
       "    .dataframe tbody tr th:only-of-type {\n",
       "        vertical-align: middle;\n",
       "    }\n",
       "\n",
       "    .dataframe tbody tr th {\n",
       "        vertical-align: top;\n",
       "    }\n",
       "\n",
       "    .dataframe thead th {\n",
       "        text-align: right;\n",
       "    }\n",
       "</style>\n",
       "<table border=\"1\" class=\"dataframe\">\n",
       "  <thead>\n",
       "    <tr style=\"text-align: right;\">\n",
       "      <th></th>\n",
       "      <th>Gender</th>\n",
       "      <th>ScheduledDay</th>\n",
       "      <th>AppointmentDay</th>\n",
       "      <th>Age</th>\n",
       "      <th>Neighbourhood</th>\n",
       "      <th>Scholarship</th>\n",
       "      <th>Hypertension</th>\n",
       "      <th>Diabetes</th>\n",
       "      <th>Alcoholism</th>\n",
       "      <th>Handicap</th>\n",
       "      <th>SMS_received</th>\n",
       "      <th>No_show</th>\n",
       "    </tr>\n",
       "  </thead>\n",
       "  <tbody>\n",
       "    <tr>\n",
       "      <th>0</th>\n",
       "      <td>F</td>\n",
       "      <td>2016-04-29 18:38:08+00:00</td>\n",
       "      <td>2016-04-29 00:00:00+00:00</td>\n",
       "      <td>62.0</td>\n",
       "      <td>JARDIM DA PENHA</td>\n",
       "      <td>0.0</td>\n",
       "      <td>1.0</td>\n",
       "      <td>0.0</td>\n",
       "      <td>0.0</td>\n",
       "      <td>0.0</td>\n",
       "      <td>0.0</td>\n",
       "      <td>No</td>\n",
       "    </tr>\n",
       "    <tr>\n",
       "      <th>1</th>\n",
       "      <td>M</td>\n",
       "      <td>2016-04-29 16:08:27+00:00</td>\n",
       "      <td>2016-04-29 00:00:00+00:00</td>\n",
       "      <td>56.0</td>\n",
       "      <td>JARDIM DA PENHA</td>\n",
       "      <td>0.0</td>\n",
       "      <td>0.0</td>\n",
       "      <td>0.0</td>\n",
       "      <td>0.0</td>\n",
       "      <td>0.0</td>\n",
       "      <td>0.0</td>\n",
       "      <td>No</td>\n",
       "    </tr>\n",
       "    <tr>\n",
       "      <th>2</th>\n",
       "      <td>F</td>\n",
       "      <td>2016-04-29 16:19:04+00:00</td>\n",
       "      <td>2016-04-29 00:00:00+00:00</td>\n",
       "      <td>62.0</td>\n",
       "      <td>MATA DA PRAIA</td>\n",
       "      <td>0.0</td>\n",
       "      <td>0.0</td>\n",
       "      <td>0.0</td>\n",
       "      <td>0.0</td>\n",
       "      <td>0.0</td>\n",
       "      <td>0.0</td>\n",
       "      <td>No</td>\n",
       "    </tr>\n",
       "    <tr>\n",
       "      <th>3</th>\n",
       "      <td>F</td>\n",
       "      <td>2016-04-29 17:29:31+00:00</td>\n",
       "      <td>2016-04-29 00:00:00+00:00</td>\n",
       "      <td>8.0</td>\n",
       "      <td>PONTAL DE CAMBURI</td>\n",
       "      <td>0.0</td>\n",
       "      <td>0.0</td>\n",
       "      <td>0.0</td>\n",
       "      <td>0.0</td>\n",
       "      <td>0.0</td>\n",
       "      <td>0.0</td>\n",
       "      <td>No</td>\n",
       "    </tr>\n",
       "    <tr>\n",
       "      <th>4</th>\n",
       "      <td>F</td>\n",
       "      <td>2016-04-29 16:07:23+00:00</td>\n",
       "      <td>2016-04-29 00:00:00+00:00</td>\n",
       "      <td>56.0</td>\n",
       "      <td>JARDIM DA PENHA</td>\n",
       "      <td>0.0</td>\n",
       "      <td>1.0</td>\n",
       "      <td>1.0</td>\n",
       "      <td>0.0</td>\n",
       "      <td>0.0</td>\n",
       "      <td>0.0</td>\n",
       "      <td>No</td>\n",
       "    </tr>\n",
       "  </tbody>\n",
       "</table>\n",
       "</div>"
      ],
      "text/plain": [
       "  Gender               ScheduledDay             AppointmentDay   Age  \\\n",
       "0      F  2016-04-29 18:38:08+00:00  2016-04-29 00:00:00+00:00  62.0   \n",
       "1      M  2016-04-29 16:08:27+00:00  2016-04-29 00:00:00+00:00  56.0   \n",
       "2      F  2016-04-29 16:19:04+00:00  2016-04-29 00:00:00+00:00  62.0   \n",
       "3      F  2016-04-29 17:29:31+00:00  2016-04-29 00:00:00+00:00   8.0   \n",
       "4      F  2016-04-29 16:07:23+00:00  2016-04-29 00:00:00+00:00  56.0   \n",
       "\n",
       "       Neighbourhood  Scholarship  Hypertension  Diabetes  Alcoholism  \\\n",
       "0    JARDIM DA PENHA          0.0           1.0       0.0         0.0   \n",
       "1    JARDIM DA PENHA          0.0           0.0       0.0         0.0   \n",
       "2      MATA DA PRAIA          0.0           0.0       0.0         0.0   \n",
       "3  PONTAL DE CAMBURI          0.0           0.0       0.0         0.0   \n",
       "4    JARDIM DA PENHA          0.0           1.0       1.0         0.0   \n",
       "\n",
       "   Handicap  SMS_received No_show  \n",
       "0       0.0           0.0      No  \n",
       "1       0.0           0.0      No  \n",
       "2       0.0           0.0      No  \n",
       "3       0.0           0.0      No  \n",
       "4       0.0           0.0      No  "
      ]
     },
     "execution_count": 13,
     "metadata": {},
     "output_type": "execute_result"
    }
   ],
   "source": [
    "# Seems like we don't need PatientId and AppointmentID in our data, so we can drop them. \n",
    "df.drop(['PatientId', 'AppointmentID'], axis = 1, inplace = True)\n",
    "df.head()"
   ]
  },
  {
   "cell_type": "markdown",
   "metadata": {},
   "source": [
    "<a id='eda'></a>\n",
    "## Exploratory Data Analysis"
   ]
  },
  {
   "cell_type": "markdown",
   "metadata": {},
   "source": [
    "<a id='eda'></a>\n",
    "### General LOOK"
   ]
  },
  {
   "cell_type": "code",
   "execution_count": 14,
   "metadata": {},
   "outputs": [
    {
     "data": {
      "image/png": "[encoded data removed]",
      "text/plain": [
       "<Figure size 1080x864 with 9 Axes>"
      ]
     },
     "metadata": {
      "needs_background": "light"
     },
     "output_type": "display_data"
    }
   ],
   "source": [
    "#Histogram of whole data\n",
    "df.hist(figsize =(15,12) ); "
   ]
  },
  {
   "cell_type": "markdown",
   "metadata": {},
   "source": [
    "## Question 1  ==> what is the overall appointment show-up vs. no_show-up rate?"
   ]
  },
  {
   "cell_type": "markdown",
   "metadata": {},
   "source": [
    "###### making a pie chart to have the percentage of who showed up and who is not"
   ]
  },
  {
   "cell_type": "code",
   "execution_count": 15,
   "metadata": {},
   "outputs": [
    {
     "name": "stderr",
     "output_type": "stream",
     "text": [
      "C:\\Users\\osama\\AppData\\Local\\Temp/ipykernel_12368/1007906619.py:2: SettingWithCopyWarning: \n",
      "A value is trying to be set on a copy of a slice from a DataFrame\n",
      "\n",
      "See the caveats in the documentation: https://pandas.pydata.org/pandas-docs/stable/user_guide/indexing.html#returning-a-view-versus-a-copy\n",
      "  df.No_show[df['No_show'] == 'Yes'] = '1'\n",
      "C:\\Users\\osama\\AppData\\Local\\Temp/ipykernel_12368/1007906619.py:3: SettingWithCopyWarning: \n",
      "A value is trying to be set on a copy of a slice from a DataFrame\n",
      "\n",
      "See the caveats in the documentation: https://pandas.pydata.org/pandas-docs/stable/user_guide/indexing.html#returning-a-view-versus-a-copy\n",
      "  df.No_show[df['No_show'] == 'No'] = '0'\n"
     ]
    }
   ],
   "source": [
    "# Converting no_show data to 0 and 1 instead of 'yes' and 'no' so we can use plot or goupby\n",
    "df.No_show[df['No_show'] == 'Yes'] = '1'\n",
    "df.No_show[df['No_show'] == 'No'] = '0'\n",
    "df['No_show'] = pd.to_numeric(df['No_show']);"
   ]
  },
  {
   "cell_type": "code",
   "execution_count": 16,
   "metadata": {},
   "outputs": [],
   "source": [
    "# create a mask for people who came\n",
    "showed = df['No_show'] == 0\n",
    "not_showed = df['No_show'] == 1\n",
    "df['showed'] = showed\n",
    "df['not_showed'] = not_showed"
   ]
  },
  {
   "cell_type": "code",
   "execution_count": 17,
   "metadata": {},
   "outputs": [
    {
     "name": "stdout",
     "output_type": "stream",
     "text": [
      "77.18204601590561\n"
     ]
    },
    {
     "data": {
      "image/png": "[encoded data removed]",
      "text/plain": [
       "<Figure size 432x288 with 1 Axes>"
      ]
     },
     "metadata": {},
     "output_type": "display_data"
    }
   ],
   "source": [
    "allP = df['showed'].value_counts()\n",
    "print(allP[1] / allP.sum() * 100)\n",
    "pieChart = allP.plot.pie(autopct='%1.1f%%', fontsize = 12);\n",
    "pieChart.set_title(\"Status\" + ' (%) (Per appointment)\\n', fontsize = 15);\n",
    "plt.legend();\n"
   ]
  },
  {
   "cell_type": "markdown",
   "metadata": {},
   "source": [
    "## Research Question 2 ==> what are the most feature that matter the most of ('Age', 'being alcoholic','Having an SMS', 'Gender', 'Scholarship'), to make the patient make it to his appiontment?"
   ]
  },
  {
   "cell_type": "markdown",
   "metadata": {},
   "source": [
    "#### Average age of people who show-up and who didn't"
   ]
  },
  {
   "cell_type": "code",
   "execution_count": 18,
   "metadata": {},
   "outputs": [
    {
     "data": {
      "text/plain": [
       "39.07518726482"
      ]
     },
     "execution_count": 18,
     "metadata": {},
     "output_type": "execute_result"
    }
   ],
   "source": [
    "df.Age[showed].mean()\n"
   ]
  },
  {
   "cell_type": "code",
   "execution_count": 19,
   "metadata": {},
   "outputs": [
    {
     "data": {
      "text/plain": [
       "35.329151291512915"
      ]
     },
     "execution_count": 19,
     "metadata": {},
     "output_type": "execute_result"
    }
   ],
   "source": [
    "df.Age[not_showed].mean()\n"
   ]
  },
  {
   "cell_type": "markdown",
   "metadata": {},
   "source": [
    "#### Making Histogram to see the realtion between the (age,alcoholic people, SMS recievers, Gender, Scholarship)  and the people who came to thier appointment.\n",
    "###### Using group_by_function to find relations between features."
   ]
  },
  {
   "cell_type": "code",
   "execution_count": 20,
   "metadata": {},
   "outputs": [],
   "source": [
    "# this function is for reducing the line codes for the upcoming data visualization.\n",
    "def Label (x, y, t):\n",
    "    plt.xlabel(x)\n",
    "    plt.ylabel(y)\n",
    "    plt.title(t)\n",
    "    plt.show()"
   ]
  },
  {
   "cell_type": "code",
   "execution_count": 23,
   "metadata": {},
   "outputs": [
    {
     "data": {
      "image/png": "[encoded data removed]",
      "text/plain": [
       "<Figure size 432x288 with 1 Axes>"
      ]
     },
     "metadata": {
      "needs_background": "light"
     },
     "output_type": "display_data"
    }
   ],
   "source": [
    "df.groupby('Age')['showed'].mean().hist(alpha=0.6,bins=25,label='show')\n",
    "Label(\"Showed\", \"Age\", \"Age of people who showed\")"
   ]
  },
  {
   "cell_type": "code",
   "execution_count": 25,
   "metadata": {},
   "outputs": [
    {
     "name": "stdout",
     "output_type": "stream",
     "text": [
      "Alcoholism\n",
      "0.000000     0.797321\n",
      "1.000000     0.798512\n",
      "37.088874    0.000000\n",
      "Name: showed, dtype: float64\n"
     ]
    },
    {
     "data": {
      "image/png": "[encoded data removed]",
      "text/plain": [
       "<Figure size 432x288 with 1 Axes>"
      ]
     },
     "metadata": {
      "needs_background": "light"
     },
     "output_type": "display_data"
    }
   ],
   "source": [
    "print(df.groupby('Alcoholism')['showed'].mean())\n",
    "df.groupby('Alcoholism')['showed'].mean().plot(kind='bar');\n",
    "Label(\"Showed\", \"Alcoholism\", \"relation between alcoholics and patients who showed\")"
   ]
  },
  {
   "cell_type": "code",
   "execution_count": 26,
   "metadata": {},
   "outputs": [
    {
     "name": "stdout",
     "output_type": "stream",
     "text": [
      "SMS_received\n",
      "0.000000     0.832712\n",
      "1.000000     0.723348\n",
      "37.088874    0.000000\n",
      "Name: showed, dtype: float64\n"
     ]
    },
    {
     "data": {
      "image/png": "[encoded data removed]",
      "text/plain": [
       "<Figure size 432x288 with 1 Axes>"
      ]
     },
     "metadata": {
      "needs_background": "light"
     },
     "output_type": "display_data"
    }
   ],
   "source": [
    "print(df.groupby('SMS_received')['showed'].mean())\n",
    "df.groupby('SMS_received')['showed'].mean().plot(kind='bar');\n",
    "Label(\"Showed\", \"SMS_recieved\", \"relation between SMS_recievers and patients who showed\")\n"
   ]
  },
  {
   "cell_type": "code",
   "execution_count": 42,
   "metadata": {},
   "outputs": [
    {
     "data": {
      "image/png": "[encoded data removed]",
      "text/plain": [
       "<Figure size 432x288 with 1 Axes>"
      ]
     },
     "metadata": {
      "needs_background": "light"
     },
     "output_type": "display_data"
    }
   ],
   "source": [
    "plt.figure()\n",
    "df.Gender[showed].hist(alpha = 0.5, label = 'show')\n",
    "df.Gender[not_showed].hist(alpha = 0.5, label = 'noshow')\n",
    "plt.legend()\n",
    "Label(\"Gender\", \"Patients number\", \"relation between those who showed and who didn't according to Gender\");"
   ]
  },
  {
   "cell_type": "markdown",
   "metadata": {},
   "source": [
    "###### completing the visualiztion to see what is the feature that affect patients to come."
   ]
  },
  {
   "cell_type": "code",
   "execution_count": 43,
   "metadata": {},
   "outputs": [
    {
     "data": {
      "image/png": "[encoded data removed]",
      "text/plain": [
       "<Figure size 432x288 with 1 Axes>"
      ]
     },
     "metadata": {
      "needs_background": "light"
     },
     "output_type": "display_data"
    }
   ],
   "source": [
    "plt.figure()\n",
    "df.Scholarship[showed].hist(alpha = 0.5, label = 'show')\n",
    "df.Scholarship[not_showed].hist(alpha = 0.5, label = 'noshow')\n",
    "plt.legend()\n",
    "Label(\"Scholarship\", \"Patients number\", \"relation between those who showed and who didn't according to Scholarship\");"
   ]
  },
  {
   "cell_type": "markdown",
   "metadata": {},
   "source": [
    "As we can see Age is the most factor that affect people who will attend or not!"
   ]
  },
  {
   "cell_type": "markdown",
   "metadata": {},
   "source": [
    "## Limitations:\n",
    "-Missing features that could be useful to get more sure what is the most feature that impacts showing to the appointment such as if the patient is employeed or not , or whether the patient have a series medical issue or not.\n",
    "-There are some illogical data such as patients with age 0 or less."
   ]
  },
  {
   "cell_type": "markdown",
   "metadata": {},
   "source": [
    "<a id='conclusions'></a>\n",
    "## Conclusions\n",
    "•Sending reminder SMS for the appiontment isn't effective. \n",
    "\n",
    "•Age is the most important factor that decide if a patient would come or not, the average of age for people who will be most likely to show up is 39.07518726482 , and the average age for people who are not likely to show up is 35.329151291512915.  \n",
    "  \n",
    "• As we can see about 22.8% of people that schedule an appointment did not make it to thier appointment.  \n",
    "\n",
    "• Most of people who has Scholarship are most likely to miss thier appointments with a percentage of 76.2% of showing and patients who don't have a scholarship have the percentage 80.1%.\n",
    "\n",
    "  \n",
    "• The features such as different gender or alcoholic is not a factor to decide if the person will show-up or not.\n",
    "  \n",
    "  \n",
    "  \n",
    "## Submitting your Project \n",
    "\n",
    "> Before you submit your project, you need to create a .html or .pdf version of this notebook in the workspace here. To do that, run the code cell below. If it worked correctly, you should get a return code of 0, and you should see the generated .html file in the workspace directory (click on the orange Jupyter icon in the upper left).\n",
    "\n",
    "> Alternatively, you can download this report as .html via the **File** > **Download as** submenu, and then manually upload it into the workspace directory by clicking on the orange Jupyter icon in the upper left, then using the Upload button.\n",
    "\n",
    "> Once you've done this, you can submit your project by clicking on the \"Submit Project\" button in the lower right here. This will create and submit a zip file with this .ipynb doc and the .html or .pdf version you created. Congratulations!"
   ]
  },
  {
   "cell_type": "code",
   "execution_count": 61,
   "metadata": {},
   "outputs": [
    {
     "data": {
      "text/plain": [
       "4294967295"
      ]
     },
     "execution_count": 61,
     "metadata": {},
     "output_type": "execute_result"
    }
   ],
   "source": [
    "from subprocess import call\n",
    "call(['python', '-m', 'nbconvert', 'Investigate_a_Dataset.ipynb'])"
   ]
  },
  {
   "cell_type": "code",
   "execution_count": null,
   "metadata": {},
   "outputs": [],
   "source": []
  }
 ],
 "metadata": {
  "kernelspec": {
   "display_name": "Python 3 (ipykernel)",
   "language": "python",
   "name": "python3"
  },
  "language_info": {
   "codemirror_mode": {
    "name": "ipython",
    "version": 3
   },
   "file_extension": ".py",
   "mimetype": "text/x-python",
   "name": "python",
   "nbconvert_exporter": "python",
   "pygments_lexer": "ipython3",
   "version": "3.8.12"
  }
 },
 "nbformat": 4,
 "nbformat_minor": 2
}
